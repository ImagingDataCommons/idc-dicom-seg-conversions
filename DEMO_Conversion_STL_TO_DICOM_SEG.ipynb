{
  "nbformat": 4,
  "nbformat_minor": 0,
  "metadata": {
    "colab": {
      "provenance": [],
      "authorship_tag": "ABX9TyNwGh8CyH9oTQ4gH7htaTpe",
      "include_colab_link": true
    },
    "kernelspec": {
      "name": "python3",
      "display_name": "Python 3"
    },
    "language_info": {
      "name": "python"
    }
  },
  "cells": [
    {
      "cell_type": "markdown",
      "metadata": {
        "id": "view-in-github",
        "colab_type": "text"
      },
      "source": [
        "<a href=\"https://colab.research.google.com/github/ccosmin97/prostate_mri_us_biopsy_dcm_conversion/blob/main/DEMO_Conversion_STL_TO_DICOM_SEG.ipynb\" target=\"_parent\"><img src=\"https://colab.research.google.com/assets/colab-badge.svg\" alt=\"Open In Colab\"/></a>"
      ]
    },
    {
      "cell_type": "markdown",
      "source": [
        "The pupose of this notebook is to showcase the different steps required for conversion of prostate and lesion surfaces embedded in STL files, to DICOM SEG objects."
      ],
      "metadata": {
        "id": "JbaOozCUyHhV"
      }
    },
    {
      "cell_type": "markdown",
      "source": [
        "# Imports and tools downloads"
      ],
      "metadata": {
        "id": "yfMtfMXKym6X"
      }
    },
    {
      "cell_type": "code",
      "source": [
        "!pip install pydicom"
      ],
      "metadata": {
        "colab": {
          "base_uri": "https://localhost:8080/"
        },
        "id": "cMrwwfLmChzH",
        "outputId": "d3460633-ac12-4e07-8e99-d1d6b583ea51"
      },
      "execution_count": null,
      "outputs": [
        {
          "output_type": "stream",
          "name": "stdout",
          "text": [
            "Collecting pydicom\n",
            "  Downloading pydicom-2.4.3-py3-none-any.whl (1.8 MB)\n",
            "\u001b[2K     \u001b[90m━━━━━━━━━━━━━━━━━━━━━━━━━━━━━━━━━━━━━━━━\u001b[0m \u001b[32m1.8/1.8 MB\u001b[0m \u001b[31m17.1 MB/s\u001b[0m eta \u001b[36m0:00:00\u001b[0m\n",
            "\u001b[?25hInstalling collected packages: pydicom\n",
            "Successfully installed pydicom-2.4.3\n"
          ]
        }
      ]
    },
    {
      "cell_type": "markdown",
      "source": [
        "Authenticate with GCP account"
      ],
      "metadata": {
        "id": "QIWbcV_Fyb9V"
      }
    },
    {
      "cell_type": "code",
      "source": [
        "from google.colab import auth as google_auth\n",
        "import pandas as pd\n",
        "import os\n",
        "import glob\n",
        "import pydicom\n",
        "google_auth.authenticate_user()\n"
      ],
      "metadata": {
        "id": "VGg9Mb40yi-l"
      },
      "execution_count": null,
      "outputs": []
    },
    {
      "cell_type": "markdown",
      "source": [
        "Setup project ID"
      ],
      "metadata": {
        "id": "4FnLY6ak5o9x"
      }
    },
    {
      "cell_type": "code",
      "source": [
        "project_id = \"idc-sandbox-003\"\n",
        "os.environ[\"GCP_PROJECT_ID\"] = project_id"
      ],
      "metadata": {
        "id": "00AhmVai5oiG"
      },
      "execution_count": null,
      "outputs": []
    },
    {
      "cell_type": "markdown",
      "source": [
        "# Conversion tools download"
      ],
      "metadata": {
        "id": "w1aUBkTaxw7X"
      }
    },
    {
      "cell_type": "markdown",
      "source": [
        "Dcmqi - conversion from NIFTI to DICOM SEG"
      ],
      "metadata": {
        "id": "Ly1-CFy1yJo4"
      }
    },
    {
      "cell_type": "code",
      "source": [
        "!wget https://github.com/QIICR/dcmqi/releases/download/v1.2.5/dcmqi-1.2.5-linux.tar.gz\n",
        "!tar zxvf dcmqi-1.2.5-linux.tar.gz\n",
        "!cp dcmqi-1.2.5-linux/bin/* /usr/local/bin/"
      ],
      "metadata": {
        "id": "7nrC1Dv4x8wo"
      },
      "execution_count": null,
      "outputs": []
    },
    {
      "cell_type": "markdown",
      "source": [
        "dicom3tools - Conversion from labelmap (.nii) to DICOM SEG objects"
      ],
      "metadata": {
        "id": "4JGqq5oY0asR"
      }
    },
    {
      "cell_type": "code",
      "source": [
        "!sudo apt-get install xutils-dev"
      ],
      "metadata": {
        "id": "CzuLLEqC6LvE"
      },
      "execution_count": null,
      "outputs": []
    },
    {
      "cell_type": "code",
      "source": [
        "!wget https://dclunie.com/dicom3tools/workinprogress/dicom3tools_1.00.snapshot.20220618093127.tar.bz2\n",
        "!bunzip2 dicom3tools_1.00.snapshot.20220618093127.tar.bz2\n",
        "!tar xf dicom3tools_1.00.snapshot.20220618093127.tar\n",
        "!mv dicom3tools_1.00.snapshot.20220618093127 dicom3tools"
      ],
      "metadata": {
        "colab": {
          "base_uri": "https://localhost:8080/"
        },
        "id": "LXH-F0bS1PLg",
        "outputId": "a0cc803f-cc04-4c16-9682-544088c62c65"
      },
      "execution_count": null,
      "outputs": [
        {
          "output_type": "stream",
          "name": "stdout",
          "text": [
            "--2023-10-31 18:53:28--  https://dclunie.com/dicom3tools/workinprogress/dicom3tools_1.00.snapshot.20220618093127.tar.bz2\n",
            "Resolving dclunie.com (dclunie.com)... 18.64.174.127, 18.64.174.53, 18.64.174.109, ...\n",
            "Connecting to dclunie.com (dclunie.com)|18.64.174.127|:443... connected.\n",
            "HTTP request sent, awaiting response... 200 OK\n",
            "Length: 1038330 (1014K) [application/x-bzip2]\n",
            "Saving to: ‘dicom3tools_1.00.snapshot.20220618093127.tar.bz2’\n",
            "\n",
            "dicom3tools_1.00.sn 100%[===================>]   1014K  --.-KB/s    in 0.1s    \n",
            "\n",
            "2023-10-31 18:53:29 (7.43 MB/s) - ‘dicom3tools_1.00.snapshot.20220618093127.tar.bz2’ saved [1038330/1038330]\n",
            "\n"
          ]
        }
      ]
    },
    {
      "cell_type": "code",
      "source": [
        "!cd dicom3tools && ./Configure && imake -I./config -DInstallInTopDir -DUseXXXXID && make World && make install"
      ],
      "metadata": {
        "id": "aMKFK94A6Npi"
      },
      "execution_count": null,
      "outputs": []
    },
    {
      "cell_type": "markdown",
      "source": [
        "dicomsort - Sort DICOM objects by PatientID/StudyUID/SerieUID/SOPUID.dcm"
      ],
      "metadata": {
        "id": "NvokXSBJ02h5"
      }
    },
    {
      "cell_type": "code",
      "source": [
        "# dicomsort is the pythong package that can sort DICOM files into\n",
        "# folder organization based on user-specified DICOM attributes\n",
        "!git clone https://github.com/pieper/dicomsort.git"
      ],
      "metadata": {
        "colab": {
          "base_uri": "https://localhost:8080/"
        },
        "id": "3aec-qWl51NA",
        "outputId": "1152cb8a-72a2-4e88-92a5-0c890903a2b0"
      },
      "execution_count": null,
      "outputs": [
        {
          "output_type": "stream",
          "name": "stdout",
          "text": [
            "Cloning into 'dicomsort'...\n",
            "remote: Enumerating objects: 169, done.\u001b[K\n",
            "remote: Counting objects: 100% (43/43), done.\u001b[K\n",
            "remote: Compressing objects: 100% (27/27), done.\u001b[K\n",
            "remote: Total 169 (delta 23), reused 33 (delta 16), pack-reused 126\u001b[K\n",
            "Receiving objects: 100% (169/169), 87.84 KiB | 3.25 MiB/s, done.\n",
            "Resolving deltas: 100% (86/86), done.\n"
          ]
        }
      ]
    },
    {
      "cell_type": "markdown",
      "source": [
        "# Github demo repository download"
      ],
      "metadata": {
        "id": "YRrv6HFVxzgr"
      }
    },
    {
      "cell_type": "code",
      "source": [
        "!git clone https://github.com/ccosmin97/prostate_mri_us_biopsy_dcm_conversion.git"
      ],
      "metadata": {
        "colab": {
          "base_uri": "https://localhost:8080/"
        },
        "id": "xHMMDmeHx2kj",
        "outputId": "1ccd628d-a7a2-440a-96b7-e4011a2be093"
      },
      "execution_count": null,
      "outputs": [
        {
          "output_type": "stream",
          "name": "stdout",
          "text": [
            "Cloning into 'prostate_mri_us_biopsy_dcm_conversion'...\n",
            "remote: Enumerating objects: 35, done.\u001b[K\n",
            "remote: Counting objects:   2% (1/35)\u001b[K\rremote: Counting objects:   5% (2/35)\u001b[K\rremote: Counting objects:   8% (3/35)\u001b[K\rremote: Counting objects:  11% (4/35)\u001b[K\rremote: Counting objects:  14% (5/35)\u001b[K\rremote: Counting objects:  17% (6/35)\u001b[K\rremote: Counting objects:  20% (7/35)\u001b[K\rremote: Counting objects:  22% (8/35)\u001b[K\rremote: Counting objects:  25% (9/35)\u001b[K\rremote: Counting objects:  28% (10/35)\u001b[K\rremote: Counting objects:  31% (11/35)\u001b[K\rremote: Counting objects:  34% (12/35)\u001b[K\rremote: Counting objects:  37% (13/35)\u001b[K\rremote: Counting objects:  40% (14/35)\u001b[K\rremote: Counting objects:  42% (15/35)\u001b[K\rremote: Counting objects:  45% (16/35)\u001b[K\rremote: Counting objects:  48% (17/35)\u001b[K\rremote: Counting objects:  51% (18/35)\u001b[K\rremote: Counting objects:  54% (19/35)\u001b[K\rremote: Counting objects:  57% (20/35)\u001b[K\rremote: Counting objects:  60% (21/35)\u001b[K\rremote: Counting objects:  62% (22/35)\u001b[K\rremote: Counting objects:  65% (23/35)\u001b[K\rremote: Counting objects:  68% (24/35)\u001b[K\rremote: Counting objects:  71% (25/35)\u001b[K\rremote: Counting objects:  74% (26/35)\u001b[K\rremote: Counting objects:  77% (27/35)\u001b[K\rremote: Counting objects:  80% (28/35)\u001b[K\rremote: Counting objects:  82% (29/35)\u001b[K\rremote: Counting objects:  85% (30/35)\u001b[K\rremote: Counting objects:  88% (31/35)\u001b[K\rremote: Counting objects:  91% (32/35)\u001b[K\rremote: Counting objects:  94% (33/35)\u001b[K\rremote: Counting objects:  97% (34/35)\u001b[K\rremote: Counting objects: 100% (35/35)\u001b[K\rremote: Counting objects: 100% (35/35), done.\u001b[K\n",
            "remote: Compressing objects:   4% (1/25)\u001b[K\rremote: Compressing objects:   8% (2/25)\u001b[K\rremote: Compressing objects:  12% (3/25)\u001b[K\rremote: Compressing objects:  16% (4/25)\u001b[K\rremote: Compressing objects:  20% (5/25)\u001b[K\rremote: Compressing objects:  24% (6/25)\u001b[K\rremote: Compressing objects:  28% (7/25)\u001b[K\rremote: Compressing objects:  32% (8/25)\u001b[K\rremote: Compressing objects:  36% (9/25)\u001b[K\rremote: Compressing objects:  40% (10/25)\u001b[K\rremote: Compressing objects:  44% (11/25)\u001b[K\rremote: Compressing objects:  48% (12/25)\u001b[K\rremote: Compressing objects:  52% (13/25)\u001b[K\rremote: Compressing objects:  56% (14/25)\u001b[K\rremote: Compressing objects:  60% (15/25)\u001b[K\rremote: Compressing objects:  64% (16/25)\u001b[K\rremote: Compressing objects:  68% (17/25)\u001b[K\rremote: Compressing objects:  72% (18/25)\u001b[K\rremote: Compressing objects:  76% (19/25)\u001b[K\rremote: Compressing objects:  80% (20/25)\u001b[K\rremote: Compressing objects:  84% (21/25)\u001b[K\rremote: Compressing objects:  88% (22/25)\u001b[K\rremote: Compressing objects:  92% (23/25)\u001b[K\rremote: Compressing objects:  96% (24/25)\u001b[K\rremote: Compressing objects: 100% (25/25)\u001b[K\rremote: Compressing objects: 100% (25/25), done.\u001b[K\n",
            "Receiving objects:   2% (1/35)\rReceiving objects:   5% (2/35)\rReceiving objects:   8% (3/35)\rReceiving objects:  11% (4/35)\rReceiving objects:  14% (5/35)\rReceiving objects:  17% (6/35)\rReceiving objects:  20% (7/35)\rReceiving objects:  22% (8/35)\rReceiving objects:  25% (9/35)\rReceiving objects:  28% (10/35)\rReceiving objects:  31% (11/35)\rReceiving objects:  34% (12/35)\rReceiving objects:  37% (13/35)\rReceiving objects:  40% (14/35)\rReceiving objects:  42% (15/35)\rReceiving objects:  45% (16/35)\rReceiving objects:  48% (17/35)\rReceiving objects:  51% (18/35)\rReceiving objects:  54% (19/35)\rReceiving objects:  57% (20/35)\rReceiving objects:  60% (21/35)\rReceiving objects:  62% (22/35)\rremote: Total 35 (delta 12), reused 28 (delta 8), pack-reused 0\u001b[K\n",
            "Receiving objects:  65% (23/35)\rReceiving objects:  68% (24/35)\rReceiving objects:  71% (25/35)\rReceiving objects:  74% (26/35)\rReceiving objects:  77% (27/35)\rReceiving objects:  80% (28/35)\rReceiving objects:  82% (29/35)\rReceiving objects:  85% (30/35)\rReceiving objects:  88% (31/35)\rReceiving objects:  91% (32/35)\rReceiving objects:  94% (33/35)\rReceiving objects:  97% (34/35)\rReceiving objects: 100% (35/35)\rReceiving objects: 100% (35/35), 110.22 KiB | 3.24 MiB/s, done.\n",
            "Resolving deltas:   0% (0/12)\rResolving deltas:   8% (1/12)\rResolving deltas:  16% (2/12)\rResolving deltas:  25% (3/12)\rResolving deltas:  33% (4/12)\rResolving deltas:  41% (5/12)\rResolving deltas:  50% (6/12)\rResolving deltas:  58% (7/12)\rResolving deltas:  66% (8/12)\rResolving deltas:  75% (9/12)\rResolving deltas:  83% (10/12)\rResolving deltas:  91% (11/12)\rResolving deltas: 100% (12/12)\rResolving deltas: 100% (12/12), done.\n"
          ]
        }
      ]
    },
    {
      "cell_type": "markdown",
      "source": [
        "# Download sample STL and DICOM MR images to showcase conversion"
      ],
      "metadata": {
        "id": "aqhayUqnyeR0"
      }
    },
    {
      "cell_type": "markdown",
      "source": [
        "# STL to Labelmap"
      ],
      "metadata": {
        "id": "s2wVEqSlysi9"
      }
    },
    {
      "cell_type": "markdown",
      "source": [
        "Conversion from STL to labelmap (nii/nrrd) is done through Slicer, using method mentioned [here](https://slicer.readthedocs.io/en/latest/developer_guide/script_repository.html#rasterize-a-model-and-save-it-to-a-series-of-image-files) and [here](https://slicer.readthedocs.io/en/latest/developer_guide/script_repository.html#rasterize-a-model-and-save-it-to-a-series-of-image-files). Since Slicer does not run natively in Google Colab, we included the snipped code for this conversion step with brief explanations."
      ],
      "metadata": {
        "id": "LZDM6OSj1iit"
      }
    },
    {
      "cell_type": "markdown",
      "source": [
        "The conversion Slicer script is also available in our [demo github repository](https://github.com/ccosmin97/prostate_mri_us_biopsy_dcm_conversion/blob/main/utils/convert_STL_labelmap_slicer_script.py)."
      ],
      "metadata": {
        "id": "e_EUjnLf0JcY"
      }
    },
    {
      "cell_type": "markdown",
      "source": [
        "Mentioned scripts iterates over the STL files and finds the reference T2W image **.nrrd** file, used as a reference node for the output labelmap segmentations. Resulting labelmaps have the same geometry and orientation as the segmented MRI T2W image."
      ],
      "metadata": {
        "id": "plC9VejZzobQ"
      }
    },
    {
      "cell_type": "markdown",
      "source": [
        "For demo purposes, we have the processed labelmaps in our repository, in the data_samples folder."
      ],
      "metadata": {
        "id": "CXBP4OfP0J35"
      }
    },
    {
      "cell_type": "markdown",
      "source": [
        "# Labelmap to SEG DICOM"
      ],
      "metadata": {
        "id": "1LkRptG-zIMs"
      }
    },
    {
      "cell_type": "markdown",
      "source": [
        "## Download MRI T2W data from Imaging Data Commons"
      ],
      "metadata": {
        "id": "1ZfGVLnb0s-v"
      }
    },
    {
      "cell_type": "markdown",
      "source": [
        "Retrieve image SeriesUIDs from STL surfaces file names"
      ],
      "metadata": {
        "id": "2ieYyzsJ76sp"
      }
    },
    {
      "cell_type": "code",
      "source": [
        "STL_filenames = glob.glob(\"prostate_mri_us_biopsy_dcm_conversion/data_samples/prostate_STL/*.STL\") + \\\n",
        "glob.glob(\"prostate_mri_us_biopsy_dcm_conversion/data_samples/lesion_STL/*.STL\")\n",
        "image_SeriesUIDs = [x.split(\"/\")[-1].split(\"-\")[-1][:-4] for x in STL_filenames]"
      ],
      "metadata": {
        "id": "3Mk3BCcf6hni"
      },
      "execution_count": null,
      "outputs": []
    },
    {
      "cell_type": "markdown",
      "source": [
        "Download collection MRI T2W imaging data, in Imaging Data Commons, using BigQuery tool"
      ],
      "metadata": {
        "id": "kh_tVfg8GQhZ"
      }
    },
    {
      "cell_type": "code",
      "source": [
        "from google.cloud import bigquery\n",
        "bq_client = bigquery.Client(\"idc-sandbox-003\")\n",
        "selection_query = f\"\"\"\n",
        "  SELECT\n",
        "    *\n",
        "  FROM\n",
        "    `bigquery-public-data.idc_current.dicom_all`\n",
        "  WHERE\n",
        "    collection_id = 'prostate_mri_us_biopsy'\n",
        "    AND Modality IN ('MR')\n",
        "    AND SeriesInstanceUID IN UNNEST({image_SeriesUIDs})\"\"\"\n",
        "selection_result = bq_client.query(selection_query)\n",
        "selection_df = selection_result.result().to_dataframe()"
      ],
      "metadata": {
        "id": "qIzh0uAT6fuB"
      },
      "execution_count": null,
      "outputs": []
    },
    {
      "cell_type": "markdown",
      "source": [
        "Define IDC images paths"
      ],
      "metadata": {
        "id": "GT2K_Jt5GifG"
      }
    },
    {
      "cell_type": "code",
      "source": [
        "idc_downloads_path = \"IDC_DATA\"\n",
        "if not os.path.exists(idc_downloads_path):\n",
        "  !mkdir -p $idc_downloads_path\n",
        "idc_downloads_sorted_path = \"IDC_DICOM_IMAGES_SORTED\"\n",
        "if not os.path.exists(idc_downloads_sorted_path):\n",
        "  !mkdir -p $idc_downloads_sorted_path"
      ],
      "metadata": {
        "id": "FaMYLMKN-DSB"
      },
      "execution_count": null,
      "outputs": []
    },
    {
      "cell_type": "markdown",
      "source": [
        "Download data locally from gcs_urls and sort by PatientID/StudyUID/SerieUID"
      ],
      "metadata": {
        "id": "LwoWtSA2Gk4G"
      }
    },
    {
      "cell_type": "code",
      "source": [
        "# save the list of GCS URLs into a file\n",
        "selection_manifest = os.path.join(idc_downloads_path, \"idc_manifest.txt\")\n",
        "selection_df[\"gcs_url\"].to_csv(selection_manifest, header=False, index=False)\n",
        "!cat {selection_manifest} | gsutil -m cp -Ir $idc_downloads_path #download gcs_urls into output_folder\n",
        "#sort dicom donwload data per PatID/studyUID/serieUID\n",
        "!python dicomsort/dicomsort.py -k -u $idc_downloads_path {idc_downloads_sorted_path}/%PatientID/%StudyInstanceUID/%SeriesInstanceUID/%SOPInstanceUID.dcm"
      ],
      "metadata": {
        "colab": {
          "base_uri": "https://localhost:8080/"
        },
        "id": "vm8BVU-N0KNx",
        "outputId": "f1f0f03b-0b4f-437d-a924-3b28e0c3db0b"
      },
      "execution_count": null,
      "outputs": [
        {
          "output_type": "stream",
          "name": "stdout",
          "text": [
            "Copying gs://public-datasets-idc/17de54db-adcd-4379-b48d-828797a4786a/8cc1fbab-16be-4ee0-9ec6-44c41de76eea.dcm...\n",
            "/ [0 files][    0.0 B/131.8 KiB]                                                \rCopying gs://public-datasets-idc/17de54db-adcd-4379-b48d-828797a4786a/a02ffad7-9265-494b-9cd0-2686294ac2bb.dcm...\n",
            "/ [0 files][    0.0 B/263.7 KiB]                                                \rCopying gs://public-datasets-idc/17de54db-adcd-4379-b48d-828797a4786a/6bd85ab3-93d9-4b45-beb4-ce786b94eca7.dcm...\n",
            "/ [0 files][    0.0 B/395.5 KiB]                                                \rCopying gs://public-datasets-idc/17de54db-adcd-4379-b48d-828797a4786a/299b6214-c8d9-4977-a105-7e6ef059fabc.dcm...\n",
            "/ [0 files][    0.0 B/527.4 KiB]                                                \rCopying gs://public-datasets-idc/17de54db-adcd-4379-b48d-828797a4786a/6c8cb32c-a89e-479c-9a95-6c5642a90396.dcm...\n",
            "/ [0 files][    0.0 B/659.2 KiB]                                                \rCopying gs://public-datasets-idc/17de54db-adcd-4379-b48d-828797a4786a/514de077-079e-4035-b433-0e80f3acaea4.dcm...\n",
            "/ [0 files][    0.0 B/791.0 KiB]                                                \rCopying gs://public-datasets-idc/17de54db-adcd-4379-b48d-828797a4786a/375245d2-1210-483e-9d79-fd29e3318ffa.dcm...\n",
            "Copying gs://public-datasets-idc/17de54db-adcd-4379-b48d-828797a4786a/b45b5807-54e1-4a6a-8afc-f65b65cdf146.dcm...\n",
            "Copying gs://public-datasets-idc/17de54db-adcd-4379-b48d-828797a4786a/b0e967d9-94ee-4393-aa6d-83fe92b80d07.dcm...\n",
            "Copying gs://public-datasets-idc/17de54db-adcd-4379-b48d-828797a4786a/ac4fd902-b1f0-475e-8469-94e6b23af172.dcm...\n",
            "Copying gs://public-datasets-idc/17de54db-adcd-4379-b48d-828797a4786a/3938007f-e693-4b54-ba44-0e4db8fbe565.dcm...\n",
            "Copying gs://public-datasets-idc/17de54db-adcd-4379-b48d-828797a4786a/4e261b08-297e-4861-b581-b9f7accb19a7.dcm...\n",
            "Copying gs://public-datasets-idc/17de54db-adcd-4379-b48d-828797a4786a/93e4c834-1021-4c76-ba8f-9c7e6f81b700.dcm...\n",
            "Copying gs://public-datasets-idc/17de54db-adcd-4379-b48d-828797a4786a/4bd00986-095e-4952-9855-e6a053a1c286.dcm...\n",
            "Copying gs://public-datasets-idc/17de54db-adcd-4379-b48d-828797a4786a/79dbf6ca-bf31-45a1-a125-7346017e4a3a.dcm...\n",
            "Copying gs://public-datasets-idc/17de54db-adcd-4379-b48d-828797a4786a/053aaf53-46cf-480f-b3e4-b3ad23a47c41.dcm...\n",
            "Copying gs://public-datasets-idc/17de54db-adcd-4379-b48d-828797a4786a/d1066cbb-3e21-4329-aca4-54d025ae57c1.dcm...\n",
            "Copying gs://public-datasets-idc/17de54db-adcd-4379-b48d-828797a4786a/53ce458a-e3f1-4ede-8e5c-61689d26183c.dcm...\n",
            "Copying gs://public-datasets-idc/17de54db-adcd-4379-b48d-828797a4786a/3c62cb9e-4abd-4dd5-aa1c-3848b18899d1.dcm...\n",
            "Copying gs://public-datasets-idc/17de54db-adcd-4379-b48d-828797a4786a/a6d766ca-8b6f-420b-884e-80d52ef60f6c.dcm...\n",
            "Copying gs://public-datasets-idc/17de54db-adcd-4379-b48d-828797a4786a/6c02a9e2-bfcb-4f7d-9f83-c6f2bea74997.dcm...\n",
            "Copying gs://public-datasets-idc/17de54db-adcd-4379-b48d-828797a4786a/c58f5cc4-4811-4e32-b1fa-dc35bbae9c7c.dcm...\n",
            "Copying gs://public-datasets-idc/17de54db-adcd-4379-b48d-828797a4786a/6d70dd52-c9af-4594-b2f2-a32c8e231269.dcm...\n",
            "Copying gs://public-datasets-idc/17de54db-adcd-4379-b48d-828797a4786a/b0ca7b34-5559-4b77-884d-1843791a57c3.dcm...\n",
            "Copying gs://public-datasets-idc/17de54db-adcd-4379-b48d-828797a4786a/35ca81bf-ba94-4fc3-8cbc-d60ed29f3f63.dcm...\n",
            "Copying gs://public-datasets-idc/17de54db-adcd-4379-b48d-828797a4786a/8fa90199-845e-4456-9c11-4117e845051c.dcm...\n",
            "Copying gs://public-datasets-idc/17de54db-adcd-4379-b48d-828797a4786a/6bed3eb6-b711-453a-b218-9f8e36c25a96.dcm...\n",
            "Copying gs://public-datasets-idc/17de54db-adcd-4379-b48d-828797a4786a/ca8369d3-ede0-4aba-ba85-05a28640275f.dcm...\n",
            "Copying gs://public-datasets-idc/17de54db-adcd-4379-b48d-828797a4786a/e7abcebc-34a0-43da-ad47-ab9d312d064f.dcm...\n",
            "Copying gs://public-datasets-idc/17de54db-adcd-4379-b48d-828797a4786a/1ceeefc1-fb17-49d3-ab65-b3d51e2a7650.dcm...\n",
            "Copying gs://public-datasets-idc/17de54db-adcd-4379-b48d-828797a4786a/0a753749-9cbf-4913-a56f-5bb48f4093b2.dcm...\n",
            "Copying gs://public-datasets-idc/17de54db-adcd-4379-b48d-828797a4786a/762b26ba-b107-4ca4-affc-f3a3914f8361.dcm...\n",
            "Copying gs://public-datasets-idc/17de54db-adcd-4379-b48d-828797a4786a/e62ea687-b851-4d41-954f-a8f981102a2f.dcm...\n",
            "Copying gs://public-datasets-idc/17de54db-adcd-4379-b48d-828797a4786a/781e5abc-6c05-4030-9c3c-bc9eaf4bed84.dcm...\n",
            "Copying gs://public-datasets-idc/17de54db-adcd-4379-b48d-828797a4786a/9ef3f863-82ab-47b2-b8f9-a1c254dc6b26.dcm...\n",
            "Copying gs://public-datasets-idc/17de54db-adcd-4379-b48d-828797a4786a/8b80e9b4-728d-4bfe-9662-b379ae8bc1bb.dcm...\n",
            "Copying gs://public-datasets-idc/17de54db-adcd-4379-b48d-828797a4786a/beaa9251-86cb-4769-a16d-50bf0fa00f67.dcm...\n",
            "Copying gs://public-datasets-idc/17de54db-adcd-4379-b48d-828797a4786a/383b8140-276f-4fc5-bd8b-e593fa9e9487.dcm...\n",
            "Copying gs://public-datasets-idc/17de54db-adcd-4379-b48d-828797a4786a/aeb8ae2d-5057-4821-8e54-26f9ae420035.dcm...\n",
            "Copying gs://public-datasets-idc/17de54db-adcd-4379-b48d-828797a4786a/76efb651-c539-4074-960b-337fba825a34.dcm...\n",
            "Copying gs://public-datasets-idc/17de54db-adcd-4379-b48d-828797a4786a/572b4542-eb0c-465f-a678-f5e983dd10b5.dcm...\n",
            "Copying gs://public-datasets-idc/17de54db-adcd-4379-b48d-828797a4786a/dd3b06dc-2d43-4561-93fa-a295e3f2f4cc.dcm...\n",
            "Copying gs://public-datasets-idc/17de54db-adcd-4379-b48d-828797a4786a/7485a78c-626d-4c99-addd-4c49c484720e.dcm...\n",
            "Copying gs://public-datasets-idc/17de54db-adcd-4379-b48d-828797a4786a/ffab2545-12e5-4862-b90e-db3959d5cdca.dcm...\n",
            "Copying gs://public-datasets-idc/17de54db-adcd-4379-b48d-828797a4786a/7c307248-7462-4d99-a9d8-88a9ee8b217d.dcm...\n",
            "Copying gs://public-datasets-idc/17de54db-adcd-4379-b48d-828797a4786a/5bc2ee85-bcaf-4692-a182-2b38a22e3062.dcm...\n",
            "Copying gs://public-datasets-idc/17de54db-adcd-4379-b48d-828797a4786a/c3c1f11a-2105-4229-a859-e48cd32484f9.dcm...\n",
            "Copying gs://public-datasets-idc/17de54db-adcd-4379-b48d-828797a4786a/d1e020bb-9ad0-4698-a628-38a9deb31c5e.dcm...\n",
            "Copying gs://public-datasets-idc/17de54db-adcd-4379-b48d-828797a4786a/de62edc9-46c1-4808-80e5-05c291d5b390.dcm...\n",
            "Copying gs://public-datasets-idc/17de54db-adcd-4379-b48d-828797a4786a/94abf284-33ca-4b49-8e24-e13759772881.dcm...\n",
            "Copying gs://public-datasets-idc/17de54db-adcd-4379-b48d-828797a4786a/1fe03e8e-62cc-4d8a-a544-2c730c0fa026.dcm...\n",
            "Copying gs://public-datasets-idc/17de54db-adcd-4379-b48d-828797a4786a/230e3935-5043-4b79-84c7-9d75b6672fe1.dcm...\n",
            "Copying gs://public-datasets-idc/17de54db-adcd-4379-b48d-828797a4786a/802ee71a-f9b3-41aa-8351-6352e3814922.dcm...\n",
            "Copying gs://public-datasets-idc/17de54db-adcd-4379-b48d-828797a4786a/36657cab-1943-4bc9-8fd2-a44949774b7f.dcm...\n",
            "Copying gs://public-datasets-idc/17de54db-adcd-4379-b48d-828797a4786a/2f30ab62-c51c-4888-aaa7-5ce9e584624c.dcm...\n",
            "Copying gs://public-datasets-idc/17de54db-adcd-4379-b48d-828797a4786a/8eee6790-0c22-44c9-b2d2-2d8bd3e04c3f.dcm...\n",
            "Copying gs://public-datasets-idc/17de54db-adcd-4379-b48d-828797a4786a/ede93277-44e8-40bd-98f4-52c5740c3f16.dcm...\n",
            "Copying gs://public-datasets-idc/17de54db-adcd-4379-b48d-828797a4786a/d4d7e15a-4f73-4215-a4ea-358b4a34deeb.dcm...\n",
            "Copying gs://public-datasets-idc/17de54db-adcd-4379-b48d-828797a4786a/0e410f46-24ab-4f19-9beb-ab0b753f10a5.dcm...\n",
            "Copying gs://public-datasets-idc/17de54db-adcd-4379-b48d-828797a4786a/1aa87429-3697-4553-99f5-5001e1b75151.dcm...\n",
            "Copying gs://public-datasets-idc/d9d024c5-ddef-45cd-8b8d-5acb7a63d3ac/437e5a46-d95c-429a-9c1b-47e8c53eef68.dcm...\n",
            "Copying gs://public-datasets-idc/d9d024c5-ddef-45cd-8b8d-5acb7a63d3ac/53d1b89d-6aff-409d-b3b3-60b84cd5dcf7.dcm...\n",
            "Copying gs://public-datasets-idc/d9d024c5-ddef-45cd-8b8d-5acb7a63d3ac/cc4207bd-b1e2-43fa-ba9c-c398e2764d6e.dcm...\n",
            "Copying gs://public-datasets-idc/d9d024c5-ddef-45cd-8b8d-5acb7a63d3ac/535c7934-f41d-4eff-b740-113f46bc268a.dcm...\n",
            "Copying gs://public-datasets-idc/d9d024c5-ddef-45cd-8b8d-5acb7a63d3ac/a3a7f2ab-38ae-4759-a2c2-cf4075f9ff8a.dcm...\n",
            "Copying gs://public-datasets-idc/d9d024c5-ddef-45cd-8b8d-5acb7a63d3ac/f40ac2dd-cf57-4371-a1f0-9ccd6fceba74.dcm...\n",
            "Copying gs://public-datasets-idc/d9d024c5-ddef-45cd-8b8d-5acb7a63d3ac/ab8c86b2-990b-4961-ad0a-6a7646da2c6b.dcm...\n",
            "Copying gs://public-datasets-idc/d9d024c5-ddef-45cd-8b8d-5acb7a63d3ac/5cc758ef-316a-4b50-bfbe-eca3f3e09acd.dcm...\n",
            "Copying gs://public-datasets-idc/d9d024c5-ddef-45cd-8b8d-5acb7a63d3ac/bfdd7965-8ae1-43cd-b8c4-407464c4ff5d.dcm...\n",
            "Copying gs://public-datasets-idc/d9d024c5-ddef-45cd-8b8d-5acb7a63d3ac/cf521966-1bc0-471d-9026-70db8201168c.dcm...\n",
            "Copying gs://public-datasets-idc/d9d024c5-ddef-45cd-8b8d-5acb7a63d3ac/153ebbbf-0af4-40a9-acb2-a3f8299839e1.dcm...\n",
            "Copying gs://public-datasets-idc/d9d024c5-ddef-45cd-8b8d-5acb7a63d3ac/6042200d-1669-46fd-bc31-95314a1d3960.dcm...\n",
            "Copying gs://public-datasets-idc/d9d024c5-ddef-45cd-8b8d-5acb7a63d3ac/5a60077f-ede8-4272-b19b-44df9ed24edd.dcm...\n",
            "Copying gs://public-datasets-idc/d9d024c5-ddef-45cd-8b8d-5acb7a63d3ac/24d2c050-fa61-4ec7-8de6-7e7260e4582b.dcm...\n",
            "Copying gs://public-datasets-idc/d9d024c5-ddef-45cd-8b8d-5acb7a63d3ac/666176c8-fc72-4168-9381-8574aeba104a.dcm...\n",
            "Copying gs://public-datasets-idc/d9d024c5-ddef-45cd-8b8d-5acb7a63d3ac/00975d4e-bc5b-4b99-b407-73456425302a.dcm...\n",
            "Copying gs://public-datasets-idc/d9d024c5-ddef-45cd-8b8d-5acb7a63d3ac/45ca6b23-e218-4563-86a9-6fb55d703126.dcm...\n",
            "Copying gs://public-datasets-idc/d9d024c5-ddef-45cd-8b8d-5acb7a63d3ac/5bdb1461-ada9-4f61-a1e3-0dc1f4931c0e.dcm...\n",
            "Copying gs://public-datasets-idc/d9d024c5-ddef-45cd-8b8d-5acb7a63d3ac/bf8ca3c6-bc3c-4ae8-b0a2-493e7b7a536f.dcm...\n",
            "Copying gs://public-datasets-idc/d9d024c5-ddef-45cd-8b8d-5acb7a63d3ac/a52ddc4f-92f0-43f9-b9a1-23ca04eae894.dcm...\n",
            "Copying gs://public-datasets-idc/d9d024c5-ddef-45cd-8b8d-5acb7a63d3ac/090917f8-d4d7-4ae5-826c-b9a7a2a22449.dcm...\n",
            "Copying gs://public-datasets-idc/d9d024c5-ddef-45cd-8b8d-5acb7a63d3ac/2d566886-2b9e-44fd-9ae4-274e77ab227b.dcm...\n",
            "Copying gs://public-datasets-idc/d9d024c5-ddef-45cd-8b8d-5acb7a63d3ac/80e19132-4956-4cac-a61e-757225659baf.dcm...\n",
            "Copying gs://public-datasets-idc/d9d024c5-ddef-45cd-8b8d-5acb7a63d3ac/419af7fe-b0e1-42fd-be0a-075224a03869.dcm...\n",
            "Copying gs://public-datasets-idc/d9d024c5-ddef-45cd-8b8d-5acb7a63d3ac/f163f625-3d5c-442d-be81-9845d379c894.dcm...\n",
            "Copying gs://public-datasets-idc/d9d024c5-ddef-45cd-8b8d-5acb7a63d3ac/45300e9f-0ff7-4a26-82bb-d45c9fa711ed.dcm...\n",
            "Copying gs://public-datasets-idc/d9d024c5-ddef-45cd-8b8d-5acb7a63d3ac/6997bfe3-05ce-4e6b-ad32-41af3d2366fd.dcm...\n",
            "Copying gs://public-datasets-idc/d9d024c5-ddef-45cd-8b8d-5acb7a63d3ac/284e92b2-ce52-42f4-b3b7-5026168c9c66.dcm...\n",
            "Copying gs://public-datasets-idc/d9d024c5-ddef-45cd-8b8d-5acb7a63d3ac/c6da1616-f13a-4a41-a97f-2ca1cf29aa58.dcm...\n",
            "Copying gs://public-datasets-idc/d9d024c5-ddef-45cd-8b8d-5acb7a63d3ac/af9f3316-f901-4f97-ba9a-b0e946f25947.dcm...\n",
            "Copying gs://public-datasets-idc/d9d024c5-ddef-45cd-8b8d-5acb7a63d3ac/737025d2-73b0-4cdf-807a-c10489a77498.dcm...\n",
            "Copying gs://public-datasets-idc/d9d024c5-ddef-45cd-8b8d-5acb7a63d3ac/a91032ad-f6c5-4311-a67c-aa6b603399af.dcm...\n",
            "Copying gs://public-datasets-idc/d9d024c5-ddef-45cd-8b8d-5acb7a63d3ac/49836d55-203a-41c7-bdd2-aeff014058d6.dcm...\n",
            "Copying gs://public-datasets-idc/d9d024c5-ddef-45cd-8b8d-5acb7a63d3ac/a8c0001f-70da-4227-ab4b-273d34cbdd83.dcm...\n",
            "Copying gs://public-datasets-idc/d9d024c5-ddef-45cd-8b8d-5acb7a63d3ac/0c5ba775-57b1-46bd-bf6d-270abc6f9a7d.dcm...\n",
            "Copying gs://public-datasets-idc/d9d024c5-ddef-45cd-8b8d-5acb7a63d3ac/91de478d-82da-429c-9370-6a3d3de342e6.dcm...\n",
            "Copying gs://public-datasets-idc/d9d024c5-ddef-45cd-8b8d-5acb7a63d3ac/25af6418-95f3-47f5-82bf-9b51002beac5.dcm...\n",
            "Copying gs://public-datasets-idc/d9d024c5-ddef-45cd-8b8d-5acb7a63d3ac/36fe4978-ae6d-47c4-ba46-cc8ead1d162a.dcm...\n",
            "Copying gs://public-datasets-idc/d9d024c5-ddef-45cd-8b8d-5acb7a63d3ac/e764791e-9112-4e12-8a49-a64879ad9d4d.dcm...\n",
            "Copying gs://public-datasets-idc/d9d024c5-ddef-45cd-8b8d-5acb7a63d3ac/790b78e5-2e3b-4942-a615-113cf675bb8a.dcm...\n",
            "Copying gs://public-datasets-idc/d9d024c5-ddef-45cd-8b8d-5acb7a63d3ac/f5a5127e-4c0a-4714-a099-382dc3104274.dcm...\n",
            "Copying gs://public-datasets-idc/d9d024c5-ddef-45cd-8b8d-5acb7a63d3ac/e8c1dd6e-31e4-45cb-b77d-b315234a9977.dcm...\n",
            "Copying gs://public-datasets-idc/d9d024c5-ddef-45cd-8b8d-5acb7a63d3ac/2ef3c584-3cb9-4a38-918e-7f3f59d6810a.dcm...\n",
            "Copying gs://public-datasets-idc/d9d024c5-ddef-45cd-8b8d-5acb7a63d3ac/7d3ff676-08b3-47ae-8b13-fb88d9cad05b.dcm...\n",
            "Copying gs://public-datasets-idc/d9d024c5-ddef-45cd-8b8d-5acb7a63d3ac/3df12c97-4bda-48d3-a871-57ba41e368ad.dcm...\n",
            "Copying gs://public-datasets-idc/d9d024c5-ddef-45cd-8b8d-5acb7a63d3ac/3a78b77b-b3bf-49d8-980b-5c1c9202a828.dcm...\n",
            "Copying gs://public-datasets-idc/d9d024c5-ddef-45cd-8b8d-5acb7a63d3ac/358f3945-ae2c-462d-8117-197fd1d09eda.dcm...\n",
            "Copying gs://public-datasets-idc/d9d024c5-ddef-45cd-8b8d-5acb7a63d3ac/f699faf4-e4f5-4c03-ac00-222751a63ccf.dcm...\n",
            "Copying gs://public-datasets-idc/d9d024c5-ddef-45cd-8b8d-5acb7a63d3ac/73c5f6d5-8e5b-4dbc-8f1c-a2939ed8949f.dcm...\n",
            "Copying gs://public-datasets-idc/d9d024c5-ddef-45cd-8b8d-5acb7a63d3ac/e9496dfa-325b-42c1-b5a9-f5b620d68596.dcm...\n",
            "Copying gs://public-datasets-idc/d9d024c5-ddef-45cd-8b8d-5acb7a63d3ac/aa31f6ac-af55-426d-94b3-26b4c43b03f7.dcm...\n",
            "Copying gs://public-datasets-idc/d9d024c5-ddef-45cd-8b8d-5acb7a63d3ac/f1529e1b-0a0e-46b3-b1db-43f8209b791f.dcm...\n",
            "Copying gs://public-datasets-idc/d9d024c5-ddef-45cd-8b8d-5acb7a63d3ac/154c37a8-fc04-4e1e-b7fe-4d88ebbe7e1c.dcm...\n",
            "Copying gs://public-datasets-idc/d9d024c5-ddef-45cd-8b8d-5acb7a63d3ac/9cdf9489-0059-432e-a680-2f16ab135079.dcm...\n",
            "Copying gs://public-datasets-idc/d9d024c5-ddef-45cd-8b8d-5acb7a63d3ac/2410ba6f-ea4f-4009-85d7-b4a4430da7c8.dcm...\n",
            "Copying gs://public-datasets-idc/d9d024c5-ddef-45cd-8b8d-5acb7a63d3ac/265f57ea-cdda-471e-b96b-63e7fffc0411.dcm...\n",
            "Copying gs://public-datasets-idc/d9d024c5-ddef-45cd-8b8d-5acb7a63d3ac/aa913b29-8aa4-422d-afed-19b8c1fb5b1c.dcm...\n",
            "Copying gs://public-datasets-idc/d9d024c5-ddef-45cd-8b8d-5acb7a63d3ac/4819b31e-98f7-4d94-9575-68d1b95fa906.dcm...\n",
            "Copying gs://public-datasets-idc/d9d024c5-ddef-45cd-8b8d-5acb7a63d3ac/cd752b12-d570-45a1-8dc8-ff7de72ebc7b.dcm...\n",
            "Copying gs://public-datasets-idc/d9d024c5-ddef-45cd-8b8d-5acb7a63d3ac/c78c5549-425f-47c2-89cc-ac381f244ab9.dcm...\n",
            "/ [120/120 files][ 38.0 MiB/ 38.0 MiB] 100% Done   4.1 MiB/s ETA 00:00:00       \n",
            "Operation completed over 120 objects/38.0 MiB.                                   \n",
            "100% 121/121 [00:00<00:00, 349.31it/s]\n",
            "Files sorted\n"
          ]
        }
      ]
    },
    {
      "cell_type": "markdown",
      "source": [
        "## Convert each prostate and lesion surface in labelmap representation TO DICOM SEG"
      ],
      "metadata": {
        "id": "NSKHA8m79y2_"
      }
    },
    {
      "cell_type": "markdown",
      "source": [
        "### Prostate conversion to SEG DICOM"
      ],
      "metadata": {
        "id": "HFXDCmrj--ib"
      }
    },
    {
      "cell_type": "code",
      "source": [
        "json_path = \"prostate_mri_us_biopsy_dcm_conversion/metadata/metadata_mri_us_biopsy_prostate.json\""
      ],
      "metadata": {
        "id": "3LXBFbTs-9Ge"
      },
      "execution_count": null,
      "outputs": []
    },
    {
      "cell_type": "markdown",
      "source": [
        "manually define output path"
      ],
      "metadata": {
        "id": "sEuK2hBGNNGs"
      }
    },
    {
      "cell_type": "code",
      "source": [
        "if not os.path.exists(\"output_dicom_seg_prostate\"):\n",
        "  !mkdir -p output_dicom_seg_prostate"
      ],
      "metadata": {
        "id": "yQtxPGMz_Y_y"
      },
      "execution_count": null,
      "outputs": []
    },
    {
      "cell_type": "markdown",
      "source": [
        "Here we iterate over the labelmaps, find the reference IMAGE DICOM objects, define the dicom segmentaion metadata (.json file) and pass it all to dcmqi - itkimage2segimage tool to convert to SEG DICOM."
      ],
      "metadata": {
        "id": "-FR_PsCsBZ1Y"
      }
    },
    {
      "cell_type": "code",
      "source": [
        "for labelmap_prostate_lesion in glob.glob(\"prostate_mri_us_biopsy_dcm_conversion/data_samples/prostate_labelmaps/*.nii.gz\"):\n",
        "  patientID = \"-\".join(labelmap_prostate_lesion.split(\"/\")[-1].split('-')[0:5])\n",
        "  refSerieUID = labelmap_prostate_lesion.split(\"/\")[-1].split(\"-\")[-1][:-7]\n",
        "  t2_dcm_folder = glob.glob(os.path.join(idc_downloads_sorted_path, f\"{patientID}/**/{refSerieUID}/\"))[0]\n",
        "  assert os.path.exists(t2_dcm_folder)\n",
        "  output_path = os.path.join(\"/content/output_dicom_seg_prostate\", labelmap_prostate_lesion.split('/')[-1][:-7]+'.dcm')\n",
        "  print(f'labelmap seg nii processed path : {os.path.abspath(labelmap_prostate_lesion)}')\n",
        "  print(f't2_dcm_folder path : {os.path.abspath(t2_dcm_folder)}')\n",
        "  print(f'metadata_path : {os.path.abspath(json_path)}')\n",
        "  print(f'output_path : {os.path.abspath(output_path)}')\n",
        "  assert os.path.exists\n",
        "  !/content/dcmqi-1.2.5-linux/bin/itkimage2segimage --inputImageList $labelmap_prostate_lesion --inputDICOMDirectory $t2_dcm_folder --inputMetadata $json_path --outputDICOM $output_path\n",
        "  print()"
      ],
      "metadata": {
        "colab": {
          "base_uri": "https://localhost:8080/"
        },
        "id": "jhaalosM-lPl",
        "outputId": "be0d4da6-36be-42d5-d083-1b91937bdd85"
      },
      "execution_count": null,
      "outputs": [
        {
          "output_type": "stream",
          "name": "stdout",
          "text": [
            "labelmap seg nii processed path : /content/prostate_mri_us_biopsy_dcm_conversion/data_samples/prostate_labelmaps/Prostate-MRI-US-Biopsy-0464-ProstateSurface-seriesUID-1.3.6.1.4.1.14519.5.2.1.86468801022876021368602404390378084388.nii.gz\n",
            "t2_dcm_folder path : /content/IDC_DICOM_IMAGES_SORTED/Prostate-MRI-US-Biopsy-0464/1.3.6.1.4.1.14519.5.2.1.64342754327803255538229860704337935100/1.3.6.1.4.1.14519.5.2.1.86468801022876021368602404390378084388\n",
            "metadata_path : /content/prostate_mri_us_biopsy_dcm_conversion/metadata/metadata_mri_us_biopsy_target.json\n",
            "output_path : /content/output_dicom_seg_prostate/Prostate-MRI-US-Biopsy-0464-ProstateSurface-seriesUID-1.3.6.1.4.1.14519.5.2.1.86468801022876021368602404390378084388.dcm\n",
            "dcmqi repository URL: git@github.com:QIICR/dcmqi.git revision: 1153738 tag: v1.2.5\n",
            "Loaded segmentation from prostate_mri_us_biopsy_dcm_conversion/data_samples/prostate_labelmaps/Prostate-MRI-US-Biopsy-0464-ProstateSurface-seriesUID-1.3.6.1.4.1.14519.5.2.1.86468801022876021368602404390378084388.nii.gz\n",
            "Searching recursively IDC_DICOM_IMAGES_SORTED/Prostate-MRI-US-Biopsy-0464/1.3.6.1.4.1.14519.5.2.1.64342754327803255538229860704337935100/1.3.6.1.4.1.14519.5.2.1.86468801022876021368602404390378084388/ for DICOM files\n",
            "SOPInstanceUID1.3.6.1.4.1.14519.5.2.1.257578773870136408539598559130316702032 mapped\n",
            "SOPInstanceUID1.3.6.1.4.1.14519.5.2.1.303690332742906936945649405571838795680 mapped\n",
            "SOPInstanceUID1.3.6.1.4.1.14519.5.2.1.88932398904751146216402314087941300454 mapped\n",
            "SOPInstanceUID1.3.6.1.4.1.14519.5.2.1.314645132659368321171558198863116150405 mapped\n",
            "SOPInstanceUID1.3.6.1.4.1.14519.5.2.1.67782097069146876878189756751270185663 mapped\n",
            "SOPInstanceUID1.3.6.1.4.1.14519.5.2.1.123723602284736634832128134576658973836 mapped\n",
            "SOPInstanceUID1.3.6.1.4.1.14519.5.2.1.130007452411378954210670086814791084443 mapped\n",
            "SOPInstanceUID1.3.6.1.4.1.14519.5.2.1.212239241495835189333350508803041174144 mapped\n",
            "SOPInstanceUID1.3.6.1.4.1.14519.5.2.1.44462153910060593065401133245356231041 mapped\n",
            "SOPInstanceUID1.3.6.1.4.1.14519.5.2.1.279076730593073156995942159342237831637 mapped\n",
            "SOPInstanceUID1.3.6.1.4.1.14519.5.2.1.157112263180126849925628563625688545890 mapped\n",
            "SOPInstanceUID1.3.6.1.4.1.14519.5.2.1.39127976508087784670443544386195923272 mapped\n",
            "SOPInstanceUID1.3.6.1.4.1.14519.5.2.1.235120200771623955671053710841034929745 mapped\n",
            "SOPInstanceUID1.3.6.1.4.1.14519.5.2.1.13984869453321562554998804057912232669 mapped\n",
            "SOPInstanceUID1.3.6.1.4.1.14519.5.2.1.286300066645396446794776457622875583813 mapped\n",
            "SOPInstanceUID1.3.6.1.4.1.14519.5.2.1.245263195294403241722037061795378341713 mapped\n",
            "SOPInstanceUID1.3.6.1.4.1.14519.5.2.1.257740004593171035712453018706645492580 mapped\n",
            "SOPInstanceUID1.3.6.1.4.1.14519.5.2.1.39113341374109252045134693246438663390 mapped\n",
            "SOPInstanceUID1.3.6.1.4.1.14519.5.2.1.34676109420480491653621250430073831352 mapped\n",
            "SOPInstanceUID1.3.6.1.4.1.14519.5.2.1.307938156885914567504439892211589667715 mapped\n",
            "SOPInstanceUID1.3.6.1.4.1.14519.5.2.1.264384443544125894703489275762585590654 mapped\n",
            "SOPInstanceUID1.3.6.1.4.1.14519.5.2.1.63223226886994268379560821387260483528 mapped\n",
            "SOPInstanceUID1.3.6.1.4.1.14519.5.2.1.66619196924647263302340094241068797165 mapped\n",
            "SOPInstanceUID1.3.6.1.4.1.14519.5.2.1.334391587330073301566077524058264313894 mapped\n",
            "SOPInstanceUID1.3.6.1.4.1.14519.5.2.1.105217673281578174735983722038550668582 mapped\n",
            "SOPInstanceUID1.3.6.1.4.1.14519.5.2.1.60911756841677805039993222791759179788 mapped\n",
            "SOPInstanceUID1.3.6.1.4.1.14519.5.2.1.7689710929362169923499694817069327245 mapped\n",
            "SOPInstanceUID1.3.6.1.4.1.14519.5.2.1.5995721390268579591057849216789501543 mapped\n",
            "SOPInstanceUID1.3.6.1.4.1.14519.5.2.1.208862381907731615974301783181394426252 mapped\n",
            "SOPInstanceUID1.3.6.1.4.1.14519.5.2.1.57113509399933874609541488727294976367 mapped\n",
            "SOPInstanceUID1.3.6.1.4.1.14519.5.2.1.12544809221335878437320210664487195668 mapped\n",
            "SOPInstanceUID1.3.6.1.4.1.14519.5.2.1.126864650790023132227137642008628368076 mapped\n",
            "SOPInstanceUID1.3.6.1.4.1.14519.5.2.1.169573048352747038352477814538889488126 mapped\n",
            "SOPInstanceUID1.3.6.1.4.1.14519.5.2.1.321138830140930346437029952671110211030 mapped\n",
            "SOPInstanceUID1.3.6.1.4.1.14519.5.2.1.37000594188295421139581725087641288228 mapped\n",
            "SOPInstanceUID1.3.6.1.4.1.14519.5.2.1.131458895794782082936570715887202614063 mapped\n",
            "SOPInstanceUID1.3.6.1.4.1.14519.5.2.1.204962129001752173136837607007376893737 mapped\n",
            "SOPInstanceUID1.3.6.1.4.1.14519.5.2.1.83869865998610864789828564426122152432 mapped\n",
            "SOPInstanceUID1.3.6.1.4.1.14519.5.2.1.171458502992099753327834845948388414484 mapped\n",
            "SOPInstanceUID1.3.6.1.4.1.14519.5.2.1.211821371675218636399792303003057568505 mapped\n",
            "SOPInstanceUID1.3.6.1.4.1.14519.5.2.1.333997229770995285655823130613246123286 mapped\n",
            "SOPInstanceUID1.3.6.1.4.1.14519.5.2.1.138126623520590276521841415652253726174 mapped\n",
            "SOPInstanceUID1.3.6.1.4.1.14519.5.2.1.111517653784923179770161952558094366815 mapped\n",
            "SOPInstanceUID1.3.6.1.4.1.14519.5.2.1.210328282542485288916147947135076818743 mapped\n",
            "SOPInstanceUID1.3.6.1.4.1.14519.5.2.1.234152869159207825325683828603246253169 mapped\n",
            "SOPInstanceUID1.3.6.1.4.1.14519.5.2.1.224674223864626817055249691921500692012 mapped\n",
            "SOPInstanceUID1.3.6.1.4.1.14519.5.2.1.228504972079191852099167657350780324337 mapped\n",
            "SOPInstanceUID1.3.6.1.4.1.14519.5.2.1.15141478026444608499914445566763886564 mapped\n",
            "SOPInstanceUID1.3.6.1.4.1.14519.5.2.1.335596582459926927091059139107020499603 mapped\n",
            "SOPInstanceUID1.3.6.1.4.1.14519.5.2.1.58652614104242254157254138428040122626 mapped\n",
            "SOPInstanceUID1.3.6.1.4.1.14519.5.2.1.251369723934003844366106781910144659410 mapped\n",
            "SOPInstanceUID1.3.6.1.4.1.14519.5.2.1.136282095927327682171317206399137301693 mapped\n",
            "SOPInstanceUID1.3.6.1.4.1.14519.5.2.1.54717204287253268911233661040454367332 mapped\n",
            "SOPInstanceUID1.3.6.1.4.1.14519.5.2.1.314500089308557097675497907654096605864 mapped\n",
            "SOPInstanceUID1.3.6.1.4.1.14519.5.2.1.211080090904158723859562241907182815384 mapped\n",
            "SOPInstanceUID1.3.6.1.4.1.14519.5.2.1.127520389407725550397475011339131593684 mapped\n",
            "SOPInstanceUID1.3.6.1.4.1.14519.5.2.1.23204903822655441647552364818674280443 mapped\n",
            "SOPInstanceUID1.3.6.1.4.1.14519.5.2.1.83150849907214693264367308834572411099 mapped\n",
            "SOPInstanceUID1.3.6.1.4.1.14519.5.2.1.4155609477615441393857035437569483935 mapped\n",
            "SOPInstanceUID1.3.6.1.4.1.14519.5.2.1.10926351179290058608302144107478542320 mapped\n",
            "60 of 60 slices mapped to source DICOM images\n",
            "Found 2 label(s)\n",
            "Processing label 1\n",
            "Total non-empty slices that will be encoded in SEG for label 1 is 60\n",
            " (inclusive from 0 to 60)\n",
            "Populating segment label to Lesion X\n",
            "Added source image item\n",
            "Added source image item\n",
            "Added source image item\n",
            "Added source image item\n",
            "Added source image item\n",
            "Added source image item\n",
            "Added source image item\n",
            "Added source image item\n",
            "Added source image item\n",
            "Added source image item\n",
            "Added source image item\n",
            "Added source image item\n",
            "Added source image item\n",
            "Added source image item\n",
            "Added source image item\n",
            "Added source image item\n",
            "Added source image item\n",
            "Added source image item\n",
            "Added source image item\n",
            "Added source image item\n",
            "Added source image item\n",
            "Added source image item\n",
            "Added source image item\n",
            "Added source image item\n",
            "Added source image item\n",
            "Added source image item\n",
            "Added source image item\n",
            "Added source image item\n",
            "Added source image item\n",
            "Added source image item\n",
            "Added source image item\n",
            "Added source image item\n",
            "Added source image item\n",
            "Added source image item\n",
            "Added source image item\n",
            "Added source image item\n",
            "Added source image item\n",
            "Added source image item\n",
            "Added source image item\n",
            "Added source image item\n",
            "Added source image item\n",
            "Added source image item\n",
            "Added source image item\n",
            "Added source image item\n",
            "Added source image item\n",
            "Added source image item\n",
            "Added source image item\n",
            "Added source image item\n",
            "Added source image item\n",
            "Added source image item\n",
            "Added source image item\n",
            "Added source image item\n",
            "Added source image item\n",
            "Added source image item\n",
            "Added source image item\n",
            "Added source image item\n",
            "Added source image item\n",
            "Added source image item\n",
            "Added source image item\n",
            "Added source image item\n",
            "Saved segmentation as /content/output_dicom_seg_prostate/Prostate-MRI-US-Biopsy-0464-ProstateSurface-seriesUID-1.3.6.1.4.1.14519.5.2.1.86468801022876021368602404390378084388.dcm\n",
            "\n"
          ]
        }
      ]
    },
    {
      "cell_type": "markdown",
      "source": [
        "### Lesion labelmaps conversion to DICOM SEG"
      ],
      "metadata": {
        "id": "M0418OZpAEj1"
      }
    },
    {
      "cell_type": "code",
      "source": [
        "json_path = \"prostate_mri_us_biopsy_dcm_conversion/metadata/metadata_mri_us_biopsy_target.json\""
      ],
      "metadata": {
        "id": "O-JRrHZfALSk"
      },
      "execution_count": null,
      "outputs": []
    },
    {
      "cell_type": "code",
      "source": [
        "if not os.path.exists(\"out_dicom_seg_lesion\"):\n",
        "  !mkdir -p out_dicom_seg_lesion"
      ],
      "metadata": {
        "id": "wm1MNJ46ALSx"
      },
      "execution_count": null,
      "outputs": []
    },
    {
      "cell_type": "code",
      "source": [
        "for labelmap_prostate_lesion in glob.glob(\"prostate_mri_us_biopsy_dcm_conversion/data_samples/lesion_labelmaps/*.nii.gz\"):\n",
        "  patientID = \"-\".join(labelmap_prostate_lesion.split(\"/\")[-1].split('-')[0:5])\n",
        "  refSerieUID = labelmap_prostate_lesion.split(\"/\")[-1].split(\"-\")[-1][:-7]\n",
        "  print(f'labelmap seg nii processed : {labelmap_prostate_lesion}')\n",
        "  print(patientID)\n",
        "  print(refSerieUID)\n",
        "  t2_dcm_folder = glob.glob(os.path.join(idc_downloads_sorted_path, f\"{patientID}/**/{refSerieUID}/\"))[0]\n",
        "  print(f't2_dcm_folder : {t2_dcm_folder}')\n",
        "  assert os.path.exists(t2_dcm_folder)\n",
        "  #define output_path\n",
        "  output_path = os.path.join(\"/content/out_dicom_seg_lesion\", labelmap_prostate_lesion.split('/')[-1][:-7]+'.dcm')\n",
        "  !/content/dcmqi-1.2.5-linux/bin/itkimage2segimage  --inputImageList $labelmap_prostate_lesion --inputDICOMDirectory $t2_dcm_folder --inputMetadata $json_path  --outputDICOM $output_path\n",
        "  print()"
      ],
      "metadata": {
        "colab": {
          "base_uri": "https://localhost:8080/"
        },
        "id": "HVXTmO2SALSx",
        "outputId": "09e077ab-06fe-472f-8b6b-1d12b25de0eb"
      },
      "execution_count": null,
      "outputs": [
        {
          "output_type": "stream",
          "name": "stdout",
          "text": [
            "labelmap seg nii processed : prostate_mri_us_biopsy_dcm_conversion/data_samples/lesion_labelmaps/Prostate-MRI-US-Biopsy-0126-Target1-seriesUID-1.3.6.1.4.1.14519.5.2.1.277925480713758795828603609081841477168.nii.gz\n",
            "Prostate-MRI-US-Biopsy-0126\n",
            "1.3.6.1.4.1.14519.5.2.1.277925480713758795828603609081841477168\n",
            "t2_dcm_folder : IDC_DICOM_IMAGES_SORTED/Prostate-MRI-US-Biopsy-0126/1.3.6.1.4.1.14519.5.2.1.126918309355101051664538936860263865348/1.3.6.1.4.1.14519.5.2.1.277925480713758795828603609081841477168/\n",
            "dcmqi repository URL: git@github.com:QIICR/dcmqi.git revision: 1153738 tag: v1.2.5\n",
            "Loaded segmentation from prostate_mri_us_biopsy_dcm_conversion/data_samples/lesion_labelmaps/Prostate-MRI-US-Biopsy-0126-Target1-seriesUID-1.3.6.1.4.1.14519.5.2.1.277925480713758795828603609081841477168.nii.gz\n",
            "Searching recursively IDC_DICOM_IMAGES_SORTED/Prostate-MRI-US-Biopsy-0126/1.3.6.1.4.1.14519.5.2.1.126918309355101051664538936860263865348/1.3.6.1.4.1.14519.5.2.1.277925480713758795828603609081841477168/ for DICOM files\n",
            "SOPInstanceUID1.3.6.1.4.1.14519.5.2.1.151424890219181226796505504977342353106 mapped\n",
            "SOPInstanceUID1.3.6.1.4.1.14519.5.2.1.11030955219517059163023620852882908903 mapped\n",
            "SOPInstanceUID1.3.6.1.4.1.14519.5.2.1.312826954061230132111518952810233467751 mapped\n",
            "SOPInstanceUID1.3.6.1.4.1.14519.5.2.1.117462283108188317255579875427899228321 mapped\n",
            "SOPInstanceUID1.3.6.1.4.1.14519.5.2.1.218520532828892563303530920311107996110 mapped\n",
            "SOPInstanceUID1.3.6.1.4.1.14519.5.2.1.69845817013667185566158996021088990630 mapped\n",
            "SOPInstanceUID1.3.6.1.4.1.14519.5.2.1.5902872632322595930370325870293924072 mapped\n",
            "SOPInstanceUID1.3.6.1.4.1.14519.5.2.1.274461255686715489319153104574321511620 mapped\n",
            "SOPInstanceUID1.3.6.1.4.1.14519.5.2.1.332613229920577171361507230897058134 mapped\n",
            "SOPInstanceUID1.3.6.1.4.1.14519.5.2.1.204537560976345365628293343117526667789 mapped\n",
            "SOPInstanceUID1.3.6.1.4.1.14519.5.2.1.5656252559512165571666633219999956202 mapped\n",
            "SOPInstanceUID1.3.6.1.4.1.14519.5.2.1.219586442094096783601290574596799663361 mapped\n",
            "SOPInstanceUID1.3.6.1.4.1.14519.5.2.1.297045966383529089621416772493415212023 mapped\n",
            "SOPInstanceUID1.3.6.1.4.1.14519.5.2.1.256126062668569264282506084369000916332 mapped\n",
            "SOPInstanceUID1.3.6.1.4.1.14519.5.2.1.9652881465184030176506069582245954729 mapped\n",
            "SOPInstanceUID1.3.6.1.4.1.14519.5.2.1.104302307391424817001997271613085908682 mapped\n",
            "SOPInstanceUID1.3.6.1.4.1.14519.5.2.1.121438899106524304253147676020955923411 mapped\n",
            "SOPInstanceUID1.3.6.1.4.1.14519.5.2.1.287208738331326904123865230631059868031 mapped\n",
            "SOPInstanceUID1.3.6.1.4.1.14519.5.2.1.322445595346366263014695287940269495827 mapped\n",
            "SOPInstanceUID1.3.6.1.4.1.14519.5.2.1.81799862281023602787203058344848165887 mapped\n",
            "SOPInstanceUID1.3.6.1.4.1.14519.5.2.1.156484396581828562345549132007065924880 mapped\n",
            "SOPInstanceUID1.3.6.1.4.1.14519.5.2.1.323796010207518844596476551583387819232 mapped\n",
            "SOPInstanceUID1.3.6.1.4.1.14519.5.2.1.140096300929622197329677066429170463976 mapped\n",
            "SOPInstanceUID1.3.6.1.4.1.14519.5.2.1.124579859793953415065896020146560984000 mapped\n",
            "SOPInstanceUID1.3.6.1.4.1.14519.5.2.1.282670650325357316061589809096620926803 mapped\n",
            "SOPInstanceUID1.3.6.1.4.1.14519.5.2.1.111556705585242665570019127571403256271 mapped\n",
            "SOPInstanceUID1.3.6.1.4.1.14519.5.2.1.302370077053177011755610213070987117585 mapped\n",
            "SOPInstanceUID1.3.6.1.4.1.14519.5.2.1.295123128576996491508481532067384458460 mapped\n",
            "SOPInstanceUID1.3.6.1.4.1.14519.5.2.1.82440089756431968830269041888837576087 mapped\n",
            "SOPInstanceUID1.3.6.1.4.1.14519.5.2.1.214559200520718855735221634288975709993 mapped\n",
            "SOPInstanceUID1.3.6.1.4.1.14519.5.2.1.83710919694831867441646376198390378748 mapped\n",
            "SOPInstanceUID1.3.6.1.4.1.14519.5.2.1.102403045788437912206028752110020831899 mapped\n",
            "SOPInstanceUID1.3.6.1.4.1.14519.5.2.1.214889857716552837604331766700173323542 mapped\n",
            "SOPInstanceUID1.3.6.1.4.1.14519.5.2.1.60486939967481412021249095456790801493 mapped\n",
            "SOPInstanceUID1.3.6.1.4.1.14519.5.2.1.326259093767473316592905608846544003373 mapped\n",
            "SOPInstanceUID1.3.6.1.4.1.14519.5.2.1.298747924713306853935003566512618456675 mapped\n",
            "SOPInstanceUID1.3.6.1.4.1.14519.5.2.1.336874685614987869687050170565259400351 mapped\n",
            "SOPInstanceUID1.3.6.1.4.1.14519.5.2.1.14436570138283339359268008867137038183 mapped\n",
            "SOPInstanceUID1.3.6.1.4.1.14519.5.2.1.295262881797658977493524874111660186275 mapped\n",
            "SOPInstanceUID1.3.6.1.4.1.14519.5.2.1.139453097812239931823531355271086878041 mapped\n",
            "SOPInstanceUID1.3.6.1.4.1.14519.5.2.1.209692036153582359600457389960548279737 mapped\n",
            "SOPInstanceUID1.3.6.1.4.1.14519.5.2.1.334182504238141022747732482529317906005 mapped\n",
            "SOPInstanceUID1.3.6.1.4.1.14519.5.2.1.301488225931376782353721369497128735175 mapped\n",
            "SOPInstanceUID1.3.6.1.4.1.14519.5.2.1.82166260911315036872064925167637295635 mapped\n",
            "SOPInstanceUID1.3.6.1.4.1.14519.5.2.1.212034704892469047451105088949709040033 mapped\n",
            "SOPInstanceUID1.3.6.1.4.1.14519.5.2.1.202384109008876838334802690170920926483 mapped\n",
            "SOPInstanceUID1.3.6.1.4.1.14519.5.2.1.7661270718918023682509414247139372962 mapped\n",
            "SOPInstanceUID1.3.6.1.4.1.14519.5.2.1.162605997018751928890294492157256947925 mapped\n",
            "SOPInstanceUID1.3.6.1.4.1.14519.5.2.1.207919011927337550489763074154478355396 mapped\n",
            "SOPInstanceUID1.3.6.1.4.1.14519.5.2.1.116720919810093865579013477330296412646 mapped\n",
            "SOPInstanceUID1.3.6.1.4.1.14519.5.2.1.338271822080305473426861902556650415525 mapped\n",
            "SOPInstanceUID1.3.6.1.4.1.14519.5.2.1.3381299096727212583246990311893697931 mapped\n",
            "SOPInstanceUID1.3.6.1.4.1.14519.5.2.1.300983086990615806251362612250091610954 mapped\n",
            "SOPInstanceUID1.3.6.1.4.1.14519.5.2.1.251322378622795806864062100835251767344 mapped\n",
            "SOPInstanceUID1.3.6.1.4.1.14519.5.2.1.233447606328177098297627525640581847672 mapped\n",
            "SOPInstanceUID1.3.6.1.4.1.14519.5.2.1.101820736907319515397713885793094416340 mapped\n",
            "SOPInstanceUID1.3.6.1.4.1.14519.5.2.1.44268757663833359196866445169779656052 mapped\n",
            "SOPInstanceUID1.3.6.1.4.1.14519.5.2.1.307831038618996748718951027890370141815 mapped\n",
            "SOPInstanceUID1.3.6.1.4.1.14519.5.2.1.2960924384738685706770574068435430402 mapped\n",
            "SOPInstanceUID1.3.6.1.4.1.14519.5.2.1.89666220968439187855664386594118650213 mapped\n",
            "60 of 60 slices mapped to source DICOM images\n",
            "Found 2 label(s)\n",
            "Processing label 1\n",
            "Total non-empty slices that will be encoded in SEG for label 1 is 60\n",
            " (inclusive from 0 to 60)\n",
            "Populating segment label to Lesion X\n",
            "Added source image item\n",
            "Added source image item\n",
            "Added source image item\n",
            "Added source image item\n",
            "Added source image item\n",
            "Added source image item\n",
            "Added source image item\n",
            "Added source image item\n",
            "Added source image item\n",
            "Added source image item\n",
            "Added source image item\n",
            "Added source image item\n",
            "Added source image item\n",
            "Added source image item\n",
            "Added source image item\n",
            "Added source image item\n",
            "Added source image item\n",
            "Added source image item\n",
            "Added source image item\n",
            "Added source image item\n",
            "Added source image item\n",
            "Added source image item\n",
            "Added source image item\n",
            "Added source image item\n",
            "Added source image item\n",
            "Added source image item\n",
            "Added source image item\n",
            "Added source image item\n",
            "Added source image item\n",
            "Added source image item\n",
            "Added source image item\n",
            "Added source image item\n",
            "Added source image item\n",
            "Added source image item\n",
            "Added source image item\n",
            "Added source image item\n",
            "Added source image item\n",
            "Added source image item\n",
            "Added source image item\n",
            "Added source image item\n",
            "Added source image item\n",
            "Added source image item\n",
            "Added source image item\n",
            "Added source image item\n",
            "Added source image item\n",
            "Added source image item\n",
            "Added source image item\n",
            "Added source image item\n",
            "Added source image item\n",
            "Added source image item\n",
            "Added source image item\n",
            "Added source image item\n",
            "Added source image item\n",
            "Added source image item\n",
            "Added source image item\n",
            "Added source image item\n",
            "Added source image item\n",
            "Added source image item\n",
            "Added source image item\n",
            "Added source image item\n",
            "Saved segmentation as /content/out_dicom_seg_lesion/Prostate-MRI-US-Biopsy-0126-Target1-seriesUID-1.3.6.1.4.1.14519.5.2.1.277925480713758795828603609081841477168.dcm\n",
            "\n"
          ]
        }
      ]
    },
    {
      "cell_type": "markdown",
      "source": [
        "# Verification DICOM tool -- dicom3tools"
      ],
      "metadata": {
        "id": "m4dmaP9w-zHF"
      }
    },
    {
      "cell_type": "code",
      "source": [
        "for prostate_seg_dicom in glob.glob(f\"output_dicom_seg_prostate/*.dcm\"):\n",
        "  !/content/dicom3tools/bin/1.5.15.120.x8664/dciodvfy $prostate_seg_dicom"
      ],
      "metadata": {
        "colab": {
          "base_uri": "https://localhost:8080/"
        },
        "id": "aZ6lGzOk-1Co",
        "outputId": "0c878de1-f60a-4d13-cd6a-83138db77492"
      },
      "execution_count": null,
      "outputs": [
        {
          "output_type": "stream",
          "name": "stdout",
          "text": [
            "Warning - Missing attribute or value that would be needed to build DICOMDIR - Study ID\n",
            "Warning - Value dubious for this VR - (0x0010,0x0010) PN Patient's Name  PN [1] = <Prostate-MRI-US-Biopsy-0464> - Retired Person Name form\n",
            "Warning - Value dubious for this VR - (0x0070,0x0084) PN Content Creator's Name  PN [1] = <Imaging Data Commons> - Retired Person Name form\n",
            "Segmentation\n",
            "Warning - Unrecognized defined term <GEIIS> for value 1 of attribute <Coding Scheme Designator>\n"
          ]
        }
      ]
    },
    {
      "cell_type": "code",
      "source": [
        "for prostate_seg_dicom in glob.glob(f\"out_dicom_seg_lesion/*.dcm\"):\n",
        "  !/content/dicom3tools/bin/1.5.15.120.x8664/dciodvfy $prostate_seg_dicom"
      ],
      "metadata": {
        "colab": {
          "base_uri": "https://localhost:8080/"
        },
        "id": "wMlFl5LDAYRG",
        "outputId": "c2a8c1ed-1c59-43a7-b06a-20cf44391f99"
      },
      "execution_count": null,
      "outputs": [
        {
          "output_type": "stream",
          "name": "stdout",
          "text": [
            "Warning - Missing attribute or value that would be needed to build DICOMDIR - Study ID\n",
            "Warning - Value dubious for this VR - (0x0010,0x0010) PN Patient's Name  PN [1] = <Prostate-MRI-US-Biopsy-0126> - Retired Person Name form\n",
            "Warning - Value dubious for this VR - (0x0070,0x0084) PN Content Creator's Name  PN [1] = <Imaging Data Commons> - Retired Person Name form\n",
            "Segmentation\n",
            "Warning - Unrecognized defined term <GEIIS> for value 1 of attribute <Coding Scheme Designator>\n"
          ]
        }
      ]
    }
  ]
}